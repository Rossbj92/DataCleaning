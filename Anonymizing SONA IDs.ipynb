{
 "cells": [
  {
   "cell_type": "code",
   "execution_count": 31,
   "metadata": {},
   "outputs": [],
   "source": [
    "import pandas as pd\n",
    "import numpy as np\n",
    "\n",
    "# file = 'file path'\n",
    "# col = 'col to be changed'\n",
    "# name = 'new file name.csv'\n",
    "def SONA(file, col, name):\n",
    "    gradebook = pd.read_csv(file)\n",
    "    \n",
    "    #convert column to list to iterate and get number of iterations\n",
    "    ids = gradebook[col].tolist()\n",
    "    length = range(len(gradebook[col]))\n",
    "    \n",
    "    #convert each integer into string for slicing\n",
    "    string_ids = [str(ids[i]) for i in length]\n",
    "    \n",
    "    #loop over each string and, if not already so, trim to last 4 digits\n",
    "    new_ids = []\n",
    "    for id in string_ids:\n",
    "        if len(id) <= 4:\n",
    "            pass\n",
    "        elif len(id) >= 4:\n",
    "            id = id[5:]\n",
    "        new_ids.append(id)\n",
    "    \n",
    "    #replace old column\n",
    "    gradebook[col] = new_ids\n",
    "    \n",
    "    #re-write to chosen csv name\n",
    "    gradebook[col].to_csv(name, mode = 'w' ,index=False)"
   ]
  },
  {
   "cell_type": "code",
   "execution_count": 84,
   "metadata": {},
   "outputs": [],
   "source": [
    "SONA(r'C:\\Users\\Bryan\\Documents\\Data_Science\\471_lecture_gradebook.csv', 'ID', '471 Grades.csv')"
   ]
  },
  {
   "cell_type": "code",
   "execution_count": 32,
   "metadata": {},
   "outputs": [],
   "source": [
    "SONA(r'C:\\Users\\Bryan\\Documents\\Data_Science\\471_seminar_gradebook.csv', 'ID', '471 Seminar Grades.csv')"
   ]
  },
  {
   "cell_type": "code",
   "execution_count": null,
   "metadata": {},
   "outputs": [],
   "source": []
  }
 ],
 "metadata": {
  "kernelspec": {
   "display_name": "Python 3",
   "language": "python",
   "name": "python3"
  },
  "language_info": {
   "codemirror_mode": {
    "name": "ipython",
    "version": 3
   },
   "file_extension": ".py",
   "mimetype": "text/x-python",
   "name": "python",
   "nbconvert_exporter": "python",
   "pygments_lexer": "ipython3",
   "version": "3.6.5"
  }
 },
 "nbformat": 4,
 "nbformat_minor": 2
}
