{
 "cells": [
  {
   "cell_type": "code",
   "execution_count": 3,
   "metadata": {},
   "outputs": [],
   "source": [
    "import pandas as pd\n",
    "import numpy as np"
   ]
  },
  {
   "cell_type": "code",
   "execution_count": 24,
   "metadata": {},
   "outputs": [],
   "source": [
    "def clean_instant(file):\n",
    "   \n",
    "    #import data\n",
    "    data = pd.read_csv(file,error_bad_lines=False)\n",
    "    data['Date'] = pd.to_datetime(data['Date']).dt.date\n",
    "    #separate into usage\n",
    "    usage = data.iloc[:, :2]\n",
    "    #transpose\n",
    "    usage_t = usage.T\n",
    "    #reset index to numerical values for each row\n",
    "    usage_t.reset_index(level = 0, inplace = True)\n",
    "    #change column names\n",
    "    usage_t = usage_t.rename(columns = usage_t.iloc[0,:]).drop(0)\n",
    "    \n",
    "    #Unlocks\n",
    "    unlocks = data.iloc[:, [0,2]]\n",
    "    #repeat same process as above\n",
    "    unlocks_t = unlocks.T\n",
    "    unlocks_t.reset_index(level = 0, inplace = True)\n",
    "    unlocks_t = unlocks_t.rename(columns = unlocks_t.iloc[0,:]).drop(0)\n",
    "    \n",
    "    #Merging\n",
    "    usage_unlocks = pd.concat([usage_t, unlocks_t], sort = False)\n",
    "    usage_unlocks.reset_index(level = 0, inplace = True)\n",
    "    usage_unlocks.rename({'Date':'Type'}, axis = 1, inplace = True)\n",
    "    usage_unlocks.drop('index', axis = 1, inplace = True)\n",
    "    \n",
    "    #adding a codename column\n",
    "    first = file.split('\\\\')[-1]\n",
    "    second = first.split('.')[0]\n",
    "    usage_unlocks['name'] = second\n",
    "    usage_unlocks.set_index('name')\n",
    "    \n",
    "    #Saving to new folder under codename\n",
    "    usage_unlocks.to_csv(r'C:\\Users\\Bryan\\Documents\\Data_Science\\cell_data\\Instant CSVs-20181219T020401Z-001\\Instant CSVs\\Clean\\{}.csv'.format(file.split('\\\\')[-1]))\n",
    "    \n",
    "    return usage_unlocks"
   ]
  },
  {
   "cell_type": "code",
   "execution_count": 25,
   "metadata": {},
   "outputs": [],
   "source": [
    "#getting all filenames ready\n",
    "import glob \n",
    "path =r'C:\\Users\\Bryan\\Documents\\Data_Science\\cell_data\\Instant CSVs-20181219T020401Z-001\\Instant CSVs' # use your path\n",
    "allFiles = glob.glob(path + \"/*.csv\")"
   ]
  },
  {
   "cell_type": "code",
   "execution_count": 26,
   "metadata": {},
   "outputs": [],
   "source": [
    "#cleaning instants\n",
    "for i in allFiles:\n",
    "    clean_instant(i)"
   ]
  },
  {
   "cell_type": "code",
   "execution_count": 27,
   "metadata": {},
   "outputs": [],
   "source": [
    "#getting cleaned files ready\n",
    "concat_instants_path = r'C:\\Users\\Bryan\\Documents\\Data_Science\\cell_data\\Instant CSVs-20181219T020401Z-001\\Instant CSVs\\clean'\n",
    "concat_instant_Files = glob.glob(concat_instants_path + \"/*.csv\")"
   ]
  },
  {
   "cell_type": "code",
   "execution_count": 28,
   "metadata": {},
   "outputs": [],
   "source": [
    "def concat_instants(path):\n",
    "    #load up folder with all CSVs\n",
    "    concat_path = r'path'\n",
    "    concatFiles = concatFiles = glob.glob(concat_path + \"/*.csv\")\n",
    "    #aggregate list of DF's for concatenation\n",
    "    df_list = []\n",
    "    for i in concatFiles:\n",
    "        df_list.append(pd.read_csv(i))\n",
    "    #concatenate\n",
    "    concatting = pd.concat(df_list)\n",
    "    #setting index to codename\n",
    "    concatting.set_index('name', inplace = True)\n",
    "    #getting correct column layout\n",
    "    concatting = concatting[['Type','2018-10-01', '2018-10-02', '2018-10-03', '2018-10-04', '2018-10-05',\n",
    "       '2018-10-06', '2018-10-07', '2018-10-08', '2018-10-09', '2018-10-10',\n",
    "       '2018-10-11', '2018-10-12', '2018-10-13', '2018-10-14', '2018-10-15',\n",
    "       '2018-10-16', '2018-10-17', '2018-10-18', '2018-10-19', '2018-10-20',\n",
    "       '2018-10-21', '2018-10-22', '2018-10-23', '2018-10-24', '2018-10-25',\n",
    "       '2018-10-26', '2018-10-27', '2018-10-28', '2018-10-29', '2018-10-30',\n",
    "       '2018-10-31', '2018-11-01', '2018-11-02', '2018-11-03', '2018-11-04',\n",
    "       '2018-11-05', '2018-11-06', '2018-11-07', '2018-11-08', '2018-11-09',\n",
    "       '2018-11-10', '2018-11-11', '2018-11-12', '2018-11-13', '2018-11-14',\n",
    "       '2018-11-15', '2018-11-16', '2018-11-17', '2018-11-18', '2018-11-19',\n",
    "       '2018-11-20', '2018-11-21', '2018-11-22', '2018-11-23', '2018-11-24',\n",
    "       '2018-11-25', '2018-11-26', '2018-11-27', '2018-11-28', '2018-11-29',\n",
    "       '2018-11-30', '2018-12-01', '2018-12-02', '2018-12-03', '2018-12-04',\n",
    "       '2018-12-05', '2018-12-06', '2018-12-07', '2018-12-08', '2018-12-09',\n",
    "       '2018-12-10', '2018-12-11', '2018-12-12', '2018-12-13', '2018-12-14',\n",
    "        ]]\n",
    "    \n",
    "    return testing_concat.to_csv('master_instants.csv')"
   ]
  },
  {
   "cell_type": "code",
   "execution_count": 29,
   "metadata": {},
   "outputs": [],
   "source": [
    "########################################Onto Moment Files###############################"
   ]
  },
  {
   "cell_type": "code",
   "execution_count": 30,
   "metadata": {},
   "outputs": [],
   "source": [
    "def clean_moment(file):\n",
    "    \n",
    "    #import data\n",
    "    data = pd.read_csv(file,error_bad_lines=False)\n",
    "    data['date'] = pd.to_datetime(data['date']).dt.date\n",
    "    data = data.sort_values('date')\n",
    "    #rename date col to 'index' and set as index\n",
    "    data.rename({'date':'index'}, axis = 1, inplace = True)\n",
    "    data.set_index('index', inplace = True)\n",
    "    #transpose\n",
    "    transposed_moment = data.T\n",
    "    #reset index\n",
    "    transposed_moment.reset_index(level = 0, inplace = True)\n",
    "    #rename col and rows\n",
    "    transposed_moment.rename({'index':'Type'}, axis = 1, inplace = True)\n",
    "    transposed_moment.loc[0,'Type'] = 'Device Minute'\n",
    "    transposed_moment.loc[1,'Type'] = 'Unlock Count'\n",
    "    transposed_moment = transposed_moment.iloc[[0,1],:]\n",
    "    #adding a codename column\n",
    "    first = file.split('\\\\')[-1]\n",
    "    second = first.split('.')[0]\n",
    "    transposed_moment['name'] = second\n",
    "    transposed_moment.set_index('name', inplace = True)\n",
    "   \n",
    "    \n",
    "    transposed_moment.to_csv(r'C:\\Users\\Bryan\\Documents\\Data_Science\\cell_data\\Moment CSVs-20181219T031255Z-001\\Moment CSVs\\Clean\\{}.csv'.format(file.split('\\\\')[-1]))\n",
    "    \n",
    "    return transposed_moment"
   ]
  },
  {
   "cell_type": "code",
   "execution_count": 31,
   "metadata": {},
   "outputs": [],
   "source": [
    "#getting moments read\n",
    "path =r'C:\\Users\\Bryan\\Documents\\Data_Science\\cell_data\\Moment CSVs-20181219T031255Z-001\\Moment CSVs' # use your path\n",
    "all_moment_Files = glob.glob(path + \"/*.csv\")"
   ]
  },
  {
   "cell_type": "code",
   "execution_count": 32,
   "metadata": {},
   "outputs": [],
   "source": [
    "#cleaning moments\n",
    "for i in all_moment_Files:\n",
    "    clean_moment(i)"
   ]
  },
  {
   "cell_type": "code",
   "execution_count": 33,
   "metadata": {},
   "outputs": [],
   "source": [
    "final_moment_path = r'C:\\Users\\Bryan\\Documents\\Data_Science\\cell_data\\Moment CSVs-20181219T031255Z-001\\Moment CSVs\\clean'\n",
    "final_moment_Files = glob.glob(final_moment_path + \"/*.csv\")"
   ]
  },
  {
   "cell_type": "code",
   "execution_count": 34,
   "metadata": {},
   "outputs": [],
   "source": [
    "def concat_moments(path):\n",
    "    df_moment_list = []\n",
    "    for i in final_moment_Files:\n",
    "        df_moment_list.append(pd.read_csv(i))\n",
    "    #concatenate\n",
    "    concatting_moments = pd.concat(df_moment_list)\n",
    "    #setting index to codename\n",
    "    concatting_moments.set_index('name', inplace = True)\n",
    "    concatting_moments = concatting_moments[[\n",
    "     'Type','2018-09-26','2018-09-27','2018-09-28','2018-09-29','2018-09-30','2018-10-01','2018-10-02','2018-10-03',\n",
    "     '2018-10-04','2018-10-05','2018-10-06','2018-10-07','2018-10-08','2018-10-09','2018-10-10','2018-10-11','2018-10-12',\n",
    "     '2018-10-13','2018-10-14','2018-10-15','2018-10-16','2018-10-17','2018-10-18','2018-10-19','2018-10-20','2018-10-21',\n",
    "     '2018-10-22','2018-10-23','2018-10-24','2018-10-25','2018-10-26','2018-10-27','2018-10-28','2018-10-29','2018-10-30',\n",
    "     '2018-10-31','2018-11-01','2018-11-02','2018-11-03','2018-11-04','2018-11-05','2018-11-06','2018-11-07','2018-11-08',\n",
    "     '2018-11-09','2018-11-10','2018-11-11','2018-11-12','2018-11-13','2018-11-14','2018-11-15','2018-11-16','2018-11-17',\n",
    "     '2018-11-18','2018-11-19','2018-11-20','2018-11-21','2018-11-22','2018-11-23','2018-11-24','2018-11-25','2018-11-26',\n",
    "     '2018-11-27','2018-11-28','2018-11-29','2018-11-30','2018-12-01','2018-12-02','2018-12-03','2018-12-04','2018-12-05',\n",
    "     '2018-12-06','2018-12-07','2018-12-08','2018-12-09','2018-12-10','2018-12-11','2018-12-12','2018-12-13','2018-12-14',\n",
    "     '2018-12-15','2018-12-16']]\n",
    "    return concatting_moments.to_csv('moment_master.csv')\n"
   ]
  },
  {
   "cell_type": "code",
   "execution_count": 36,
   "metadata": {},
   "outputs": [
    {
     "name": "stderr",
     "output_type": "stream",
     "text": [
      "C:\\Users\\Bryan\\AppData\\Local\\Continuum\\anaconda3\\lib\\site-packages\\ipykernel_launcher.py:5: FutureWarning: Sorting because non-concatenation axis is not aligned. A future version\n",
      "of pandas will change to not sort by default.\n",
      "\n",
      "To accept the future behavior, pass 'sort=False'.\n",
      "\n",
      "To retain the current behavior and silence the warning, pass 'sort=True'.\n",
      "\n",
      "  \"\"\"\n"
     ]
    }
   ],
   "source": [
    "#concatting master files\n",
    "master_1 = pd.read_csv(r'C:\\Users\\Bryan\\Documents\\Data_Science\\moment_master.csv')\n",
    "master_2 = pd.read_csv(r'C:\\Users\\Bryan\\Documents\\Data_Science\\master_instants.csv')\n",
    "masters = [master_1, master_2]\n",
    "master_concat = pd.concat(masters)\n",
    "master_concat.to_csv('moment_instant_master.csv')"
   ]
  },
  {
   "cell_type": "code",
   "execution_count": null,
   "metadata": {},
   "outputs": [],
   "source": []
  }
 ],
 "metadata": {
  "kernelspec": {
   "display_name": "Python 3",
   "language": "python",
   "name": "python3"
  },
  "language_info": {
   "codemirror_mode": {
    "name": "ipython",
    "version": 3
   },
   "file_extension": ".py",
   "mimetype": "text/x-python",
   "name": "python",
   "nbconvert_exporter": "python",
   "pygments_lexer": "ipython3",
   "version": "3.7.0"
  }
 },
 "nbformat": 4,
 "nbformat_minor": 2
}
